{
  "nbformat": 4,
  "nbformat_minor": 0,
  "metadata": {
    "colab": {
      "provenance": []
    },
    "kernelspec": {
      "name": "python3",
      "display_name": "Python 3"
    },
    "language_info": {
      "name": "python"
    }
  },
  "cells": [
    {
      "cell_type": "code",
      "execution_count": 1,
      "metadata": {
        "id": "vyENO-Ahu9Xw"
      },
      "outputs": [],
      "source": [
        "# Installation Process\n",
        "\n",
        "# (1). Install python in our system ==> Install vs code in system ===> In vs code install python Extension\n",
        "\n",
        "# (2). Install Anaconda in our system ===> Launch Jupyter Notebook ==> Create a New Notebook\n",
        "\n",
        "# (3). Open Google Colab in Browser ===> New Notebook"
      ]
    },
    {
      "cell_type": "code",
      "source": [
        "# Introduction to Python ==> Python is a high-level , general purpose , interpreted\n",
        "# programming language which was invented in 1991 by Guido Van Rossoum ."
      ],
      "metadata": {
        "id": "hwI-W4oWwU5s"
      },
      "execution_count": 2,
      "outputs": []
    },
    {
      "cell_type": "code",
      "source": [
        "# Fundamentals of Python ===>\n",
        "# (1). Data type\n",
        "# (2). Variable\n",
        "# (3). input() & print()"
      ],
      "metadata": {
        "id": "rDyGvS2iw089"
      },
      "execution_count": 3,
      "outputs": []
    },
    {
      "cell_type": "code",
      "source": [
        "# (1). Data type\n",
        "# (a). Integer ===> All positive and negative values .\n",
        "# Ex. 34 , 67 , -12 , -78 , 45678\n",
        "\n",
        "# (b). Float ===> All decimal values .\n",
        "# Ex. 34.89 , 234.899\n",
        "\n",
        "# (c). String ====> 'single quotes' , \"double_quotes\" , '''triple_quotes'''\n",
        "# Ex. 'sam' , \"sam\" , '''sam'''\n",
        "\n",
        "# (d). Boolean ===> TRUE , FALSE\n",
        "# Ex. 5>4 ===> Output True\n",
        "# 4<1  ===> Output False"
      ],
      "metadata": {
        "id": "uJpvDzoIxjk0"
      },
      "execution_count": 4,
      "outputs": []
    },
    {
      "cell_type": "code",
      "source": [
        "# type() ===> Using type() , we can check data type of element.\n",
        "type(5>4)"
      ],
      "metadata": {
        "colab": {
          "base_uri": "https://localhost:8080/"
        },
        "id": "SjUi1ankyrSg",
        "outputId": "927e3945-0cd7-45ff-f6c0-34625aad1892"
      },
      "execution_count": 10,
      "outputs": [
        {
          "output_type": "execute_result",
          "data": {
            "text/plain": [
              "bool"
            ]
          },
          "metadata": {},
          "execution_count": 10
        }
      ]
    },
    {
      "cell_type": "code",
      "source": [
        "# (2). Variable ===> This is a container in which we can store or assign our values.\n",
        "a = 'sam'\n",
        "b = 56\n",
        "c = 45.89     ### variables = a,b,c\n",
        "\n",
        "# (1).Numbers variable xx\n",
        "# 45 = 'sam'\n",
        "\n",
        "# (2). If you want to use more than 2 words then you can use _ or -\n",
        "good_morning = 78"
      ],
      "metadata": {
        "id": "aQGCxwcLy8ue"
      },
      "execution_count": 15,
      "outputs": []
    },
    {
      "cell_type": "code",
      "source": [
        "# print() ===> Using print() , we can execute our query on terminal.\n",
        "print(45)\n",
        "print('sam')\n",
        "print(67.244)"
      ],
      "metadata": {
        "colab": {
          "base_uri": "https://localhost:8080/"
        },
        "id": "5HhL9hW10cnV",
        "outputId": "ef13676c-5774-4851-e60c-374c34717eed"
      },
      "execution_count": 18,
      "outputs": [
        {
          "output_type": "stream",
          "name": "stdout",
          "text": [
            "45\n",
            "sam\n",
            "67.244\n"
          ]
        }
      ]
    },
    {
      "cell_type": "code",
      "source": [
        "# input() ===> This will ask query from users and its output will be in string format ."
      ],
      "metadata": {
        "id": "tRcI7ZMAz-i-"
      },
      "execution_count": 19,
      "outputs": []
    },
    {
      "cell_type": "code",
      "source": [
        "a = input(\"Enter your name:\")\n",
        "print(a)"
      ],
      "metadata": {
        "colab": {
          "base_uri": "https://localhost:8080/"
        },
        "id": "-UyH8NZr1TBs",
        "outputId": "74768ba8-5781-464b-ad1f-b1832d3ff769"
      },
      "execution_count": 20,
      "outputs": [
        {
          "output_type": "stream",
          "name": "stdout",
          "text": [
            "Enter your name:Rahul\n",
            "Rahul\n"
          ]
        }
      ]
    },
    {
      "cell_type": "code",
      "source": [
        "type(a)"
      ],
      "metadata": {
        "colab": {
          "base_uri": "https://localhost:8080/"
        },
        "id": "RM1GrLbx1ZBG",
        "outputId": "62eb4348-2ce4-4a31-a69b-ef2dd9f9f9ce"
      },
      "execution_count": 21,
      "outputs": [
        {
          "output_type": "execute_result",
          "data": {
            "text/plain": [
              "str"
            ]
          },
          "metadata": {},
          "execution_count": 21
        }
      ]
    },
    {
      "cell_type": "code",
      "source": [
        "# How can we add 2 numbers using python ?\n",
        "a = 1\n",
        "b = 5\n",
        "c = a + b\n",
        "print(c)"
      ],
      "metadata": {
        "colab": {
          "base_uri": "https://localhost:8080/"
        },
        "id": "dmIoNsbU1c7s",
        "outputId": "43f1203c-d37b-458e-de49-da1e9d09bdb2"
      },
      "execution_count": 22,
      "outputs": [
        {
          "output_type": "stream",
          "name": "stdout",
          "text": [
            "6\n"
          ]
        }
      ]
    },
    {
      "cell_type": "code",
      "source": [
        "a = input(\"Enter first number:\")\n",
        "b = input(\"Enter second number:\")\n",
        "c = a + b\n",
        "print(c)\n"
      ],
      "metadata": {
        "colab": {
          "base_uri": "https://localhost:8080/"
        },
        "id": "P32eUL4t1uF_",
        "outputId": "a05cf855-0297-45f6-99c3-afb6ffb522d9"
      },
      "execution_count": 23,
      "outputs": [
        {
          "output_type": "stream",
          "name": "stdout",
          "text": [
            "Enter first number:12\n",
            "Enter second number:34\n",
            "1234\n"
          ]
        }
      ]
    },
    {
      "cell_type": "code",
      "source": [
        "type(c)"
      ],
      "metadata": {
        "colab": {
          "base_uri": "https://localhost:8080/"
        },
        "id": "ZvdU8EIe1_4i",
        "outputId": "eb3df4ca-b20c-4c0a-8896-a0d8440b50c9"
      },
      "execution_count": 24,
      "outputs": [
        {
          "output_type": "execute_result",
          "data": {
            "text/plain": [
              "str"
            ]
          },
          "metadata": {},
          "execution_count": 24
        }
      ]
    },
    {
      "cell_type": "code",
      "source": [
        "a = int(input(\"Enter first number:\"))\n",
        "b = int(input(\"Enter second number:\"))\n",
        "c = a + b\n",
        "print(c)\n"
      ],
      "metadata": {
        "colab": {
          "base_uri": "https://localhost:8080/"
        },
        "id": "e8RkkzWI2DIg",
        "outputId": "d7d6c68d-3200-4a73-a50b-fa12873ade8b"
      },
      "execution_count": 25,
      "outputs": [
        {
          "output_type": "stream",
          "name": "stdout",
          "text": [
            "Enter first number:12\n",
            "Enter second number:34\n",
            "46\n"
          ]
        }
      ]
    },
    {
      "cell_type": "code",
      "source": [
        "# Conditional Statement in Python\n",
        "# (1). if\n",
        "# (2). elif\n",
        "# (3). else"
      ],
      "metadata": {
        "id": "Z3-j1PEO2UKV"
      },
      "execution_count": 26,
      "outputs": []
    },
    {
      "cell_type": "code",
      "source": [
        "# Q.1\n",
        "a = 'Rahul'\n",
        "if(a == 'sam'):\n",
        "  print('Yes')\n",
        "elif(a =='Rahul'):\n",
        "  print('No')\n",
        "else :\n",
        "  print('Try Again')\n",
        "\n",
        "### = for values Assignment\n",
        "### == for values comparison"
      ],
      "metadata": {
        "colab": {
          "base_uri": "https://localhost:8080/"
        },
        "id": "vw2il4I52uI5",
        "outputId": "3ac3f70c-d103-4469-90c1-7c1aca8bb4ca"
      },
      "execution_count": 29,
      "outputs": [
        {
          "output_type": "stream",
          "name": "stdout",
          "text": [
            "No\n"
          ]
        }
      ]
    },
    {
      "cell_type": "code",
      "source": [
        "# Loop in Python\n",
        "# (1). For loop\n",
        "# (2). while loop\n",
        "# Index = 0 , length = 1"
      ],
      "metadata": {
        "id": "-UBE6hRv3Enz"
      },
      "execution_count": 30,
      "outputs": []
    },
    {
      "cell_type": "code",
      "source": [
        "# method - 1\n",
        "for i in range(1,7,2):\n",
        "  print(i)"
      ],
      "metadata": {
        "colab": {
          "base_uri": "https://localhost:8080/"
        },
        "id": "jSs25Oe-3tiY",
        "outputId": "f75297b0-4156-4d10-eedb-a672ea701b30"
      },
      "execution_count": 34,
      "outputs": [
        {
          "output_type": "stream",
          "name": "stdout",
          "text": [
            "1\n",
            "3\n",
            "5\n"
          ]
        }
      ]
    },
    {
      "cell_type": "code",
      "source": [
        "# syntax\n",
        "# for i in range(min_number , max_number+1 , step_number):\n",
        "#   print(i)"
      ],
      "metadata": {
        "id": "iaqaez1T33lA"
      },
      "execution_count": 35,
      "outputs": []
    },
    {
      "cell_type": "code",
      "source": [
        "# method - 2\n",
        "a = \"sam\"\n",
        "for i in a :\n",
        "  print(i)"
      ],
      "metadata": {
        "colab": {
          "base_uri": "https://localhost:8080/"
        },
        "id": "6ii8OiaO4GOp",
        "outputId": "01e01b78-cca7-42cd-f107-66fc5e0d2303"
      },
      "execution_count": 36,
      "outputs": [
        {
          "output_type": "stream",
          "name": "stdout",
          "text": [
            "s\n",
            "a\n",
            "m\n"
          ]
        }
      ]
    },
    {
      "cell_type": "code",
      "source": [
        "# method - 2\n",
        "a = \"sam\"\n",
        "for i in a :\n",
        "  print(i , end = \"   \")"
      ],
      "metadata": {
        "colab": {
          "base_uri": "https://localhost:8080/"
        },
        "id": "ximcGOvm4XM6",
        "outputId": "6fea646f-642c-4fe6-9ed6-7d494ac97783"
      },
      "execution_count": 39,
      "outputs": [
        {
          "output_type": "stream",
          "name": "stdout",
          "text": [
            "s   a   m   "
          ]
        }
      ]
    },
    {
      "cell_type": "code",
      "source": [
        "# (2). while loop\n",
        "# (a). Initialization\n",
        "# (b). Condition\n",
        "# (c). Increment or decrement"
      ],
      "metadata": {
        "id": "Y0rIREUK4bcY"
      },
      "execution_count": 40,
      "outputs": []
    },
    {
      "cell_type": "code",
      "source": [
        "# Q.1 Write a program who print 1 to 3 using while loop ?\n",
        "i= 1     ### Initialization\n",
        "n = 3\n",
        "while(i<=n):   ## Condition\n",
        "  print(i)\n",
        "  i = i + 1   ### Increment"
      ],
      "metadata": {
        "colab": {
          "base_uri": "https://localhost:8080/"
        },
        "id": "WwRtLQrV5Hk4",
        "outputId": "1387b6b3-4753-4750-8718-fd5ff21b1933"
      },
      "execution_count": 41,
      "outputs": [
        {
          "output_type": "stream",
          "name": "stdout",
          "text": [
            "1\n",
            "2\n",
            "3\n"
          ]
        }
      ]
    },
    {
      "cell_type": "code",
      "source": [
        "# f(x) = x + 2\n",
        "# f(1) = 1 + 2 = 3\n",
        "# f(2) = 2 + 2 = 4"
      ],
      "metadata": {
        "id": "UigHgUYj5WYC"
      },
      "execution_count": 42,
      "outputs": []
    },
    {
      "cell_type": "code",
      "source": [
        "# # step-1 (i = 1 , n = 3)\n",
        "# while(1<=3):\n",
        "#   print(1)\n",
        "#   i = 1 + 1 = 2\n",
        "\n",
        "# # step-2 (i = 2 , n = 3)\n",
        "# while(2<=3):\n",
        "#   print(2)\n",
        "#   i = 2 + 1 = 3\n",
        "\n",
        "# # step-3(i = 3 , n = 3)\n",
        "# while(3<=3):\n",
        "#   print(3)\n",
        "#   i = 3 + 1 = 4\n",
        "\n",
        "# # step-4 (i = 4 , n = 3)\n",
        "# while(4<=3):\n",
        "#   break\n",
        "\n",
        "# # Final Output ===> 1,2,3"
      ],
      "metadata": {
        "id": "Fddn8bdn5xrh"
      },
      "execution_count": 43,
      "outputs": []
    },
    {
      "cell_type": "code",
      "source": [
        "# Functions in Python\n",
        "# (1). Pre-defined Functions ===> input() , print() , min() , sort().....\n",
        "# (2). Manually Created Functions ====>\n",
        "# (a). def\n",
        "# (b). Name of function\n",
        "# (c). logics of function\n",
        "# (d). Call the function(Name of function)"
      ],
      "metadata": {
        "id": "v-uH3H2Z6Wvz"
      },
      "execution_count": 44,
      "outputs": []
    },
    {
      "cell_type": "code",
      "source": [
        "# syntax of functions\n",
        "# def Name_of_Function():\n",
        "#   logics\n",
        "# Call_the_function()"
      ],
      "metadata": {
        "id": "6_J7Vt7o6-kQ"
      },
      "execution_count": 45,
      "outputs": []
    },
    {
      "cell_type": "code",
      "source": [
        "# Ex.1 Create a function who add 2 numbers ?\n",
        "def my_add():\n",
        "  a = 1\n",
        "  b = 4\n",
        "  c = a + b\n",
        "  print(\"Addition = \" , c)\n",
        "my_add()"
      ],
      "metadata": {
        "colab": {
          "base_uri": "https://localhost:8080/"
        },
        "id": "ZO2AbRw-7HIK",
        "outputId": "c1109c22-f74a-4115-c00f-fa0bb586eaea"
      },
      "execution_count": 47,
      "outputs": [
        {
          "output_type": "stream",
          "name": "stdout",
          "text": [
            "Addition =  5\n"
          ]
        }
      ]
    },
    {
      "cell_type": "code",
      "source": [
        "# Argument or Parameters\n",
        "# Parameters ===> These are the values which we passes when we create a function .\n",
        "# Argument ===> These are the values which we passes when we call the function ."
      ],
      "metadata": {
        "id": "jyyoQfaR7eGI"
      },
      "execution_count": 48,
      "outputs": []
    },
    {
      "cell_type": "code",
      "source": [
        "def my_add(a,b):\n",
        "  c = a + b\n",
        "  print(\"Addition = \" , c)\n",
        "p = 4\n",
        "q = 6\n",
        "my_add(p,q)    ### (p,q) are arguments and (a,b) are parameters ."
      ],
      "metadata": {
        "colab": {
          "base_uri": "https://localhost:8080/"
        },
        "id": "XF5dDhXN8XpJ",
        "outputId": "4e89a5c3-e591-4794-eb87-c5dbe38ec300"
      },
      "execution_count": 49,
      "outputs": [
        {
          "output_type": "stream",
          "name": "stdout",
          "text": [
            "Addition =  10\n"
          ]
        }
      ]
    },
    {
      "cell_type": "code",
      "source": [
        "# List in Python ===>\n",
        "# (1). Identification = []\n",
        "# (2). Mutable data type ===> we can change or update our values at a run time .\n",
        "# (3). Indexing start from 0 and length start from 1 ."
      ],
      "metadata": {
        "id": "gbw-qXqU8iOW"
      },
      "execution_count": 50,
      "outputs": []
    },
    {
      "cell_type": "code",
      "source": [
        "a = ['sam' , 67 , 'rahul' , 45.89]\n",
        "type(a)"
      ],
      "metadata": {
        "colab": {
          "base_uri": "https://localhost:8080/"
        },
        "id": "IjRsKFZX9KYe",
        "outputId": "72e8c55e-ad76-47a6-99f8-2129898bd06a"
      },
      "execution_count": 51,
      "outputs": [
        {
          "output_type": "execute_result",
          "data": {
            "text/plain": [
              "list"
            ]
          },
          "metadata": {},
          "execution_count": 51
        }
      ]
    },
    {
      "cell_type": "code",
      "source": [
        "print(a[0])\n",
        "print(a[1])\n",
        "print(a[2])\n",
        "print(a[3])\n"
      ],
      "metadata": {
        "colab": {
          "base_uri": "https://localhost:8080/"
        },
        "id": "V8woJTIw9NsH",
        "outputId": "74d6e594-9c8d-462d-bc68-ff2d65e55da6"
      },
      "execution_count": 53,
      "outputs": [
        {
          "output_type": "stream",
          "name": "stdout",
          "text": [
            "sam\n",
            "67\n",
            "rahul\n",
            "45.89\n"
          ]
        }
      ]
    },
    {
      "cell_type": "code",
      "source": [
        "a[1] = 5000\n",
        "print(a)"
      ],
      "metadata": {
        "colab": {
          "base_uri": "https://localhost:8080/"
        },
        "id": "jLyvBo9g9T7V",
        "outputId": "7cb683d2-760d-488d-ad53-e55692b9defb"
      },
      "execution_count": 56,
      "outputs": [
        {
          "output_type": "stream",
          "name": "stdout",
          "text": [
            "['sam', 5000, 'rahul', 45.89]\n"
          ]
        }
      ]
    },
    {
      "cell_type": "code",
      "source": [
        "# Functions in python\n",
        "# (1). min()\n",
        "a = [1,2,3,4]\n",
        "min(a)"
      ],
      "metadata": {
        "colab": {
          "base_uri": "https://localhost:8080/"
        },
        "id": "JyOWMdbV9bde",
        "outputId": "dcfc5253-a656-4b28-cffb-2e30c7116a46"
      },
      "execution_count": 57,
      "outputs": [
        {
          "output_type": "execute_result",
          "data": {
            "text/plain": [
              "1"
            ]
          },
          "metadata": {},
          "execution_count": 57
        }
      ]
    },
    {
      "cell_type": "code",
      "source": [
        "max(a)"
      ],
      "metadata": {
        "colab": {
          "base_uri": "https://localhost:8080/"
        },
        "id": "4viGlE1b9pmn",
        "outputId": "fc5ae7d1-5db8-4e99-de20-6f8d58072d65"
      },
      "execution_count": 58,
      "outputs": [
        {
          "output_type": "execute_result",
          "data": {
            "text/plain": [
              "4"
            ]
          },
          "metadata": {},
          "execution_count": 58
        }
      ]
    },
    {
      "cell_type": "code",
      "source": [
        "a = ['sam' , 'rohit' , 56]\n",
        "print(a)\n",
        "a.append('Rohan')     ### using append() we can  add elements in the last indexing of list/\n",
        "print(a)"
      ],
      "metadata": {
        "colab": {
          "base_uri": "https://localhost:8080/"
        },
        "id": "e476N4Rz9q2l",
        "outputId": "af55e36b-3004-4a1b-ef76-fbf94b71ff93"
      },
      "execution_count": 60,
      "outputs": [
        {
          "output_type": "stream",
          "name": "stdout",
          "text": [
            "['sam', 'rohit', 56]\n",
            "['sam', 'rohit', 56, 'Rohan']\n"
          ]
        }
      ]
    },
    {
      "cell_type": "code",
      "source": [
        "a.insert(1 , 'Pallavi')  ## insert(index_number, object)\n",
        "print(a)"
      ],
      "metadata": {
        "colab": {
          "base_uri": "https://localhost:8080/"
        },
        "id": "tGQiwtSX9xBK",
        "outputId": "f9980e0c-1a64-496c-95a6-8883ab478ea9"
      },
      "execution_count": 61,
      "outputs": [
        {
          "output_type": "stream",
          "name": "stdout",
          "text": [
            "['sam', 'Pallavi', 'rohit', 56, 'Rohan']\n"
          ]
        }
      ]
    },
    {
      "cell_type": "code",
      "source": [
        "a.remove('Pallavi')   ## remove(object)\n",
        "print(a)"
      ],
      "metadata": {
        "colab": {
          "base_uri": "https://localhost:8080/"
        },
        "id": "H5-Z7HoN-HZS",
        "outputId": "ee63d462-1bd2-4ead-c2e8-65310b2d56e2"
      },
      "execution_count": 62,
      "outputs": [
        {
          "output_type": "stream",
          "name": "stdout",
          "text": [
            "['sam', 'rohit', 56, 'Rohan']\n"
          ]
        }
      ]
    },
    {
      "cell_type": "code",
      "source": [
        "a.pop()  ## using pop() we can delete element from last indexing .\n",
        "print(a)\n",
        "a.pop()\n",
        "print(a)"
      ],
      "metadata": {
        "colab": {
          "base_uri": "https://localhost:8080/"
        },
        "id": "9zvTnhh3-V1V",
        "outputId": "8dace8c2-fd3d-474d-921a-2052c157da16"
      },
      "execution_count": 64,
      "outputs": [
        {
          "output_type": "stream",
          "name": "stdout",
          "text": [
            "['sam', 'rohit']\n",
            "['sam']\n"
          ]
        }
      ]
    },
    {
      "cell_type": "code",
      "source": [
        "a.reverse()\n",
        "print(a)"
      ],
      "metadata": {
        "colab": {
          "base_uri": "https://localhost:8080/"
        },
        "id": "arAfn2aS-asS",
        "outputId": "6b67898a-17e1-4960-fa39-22287fd23fbf"
      },
      "execution_count": 65,
      "outputs": [
        {
          "output_type": "stream",
          "name": "stdout",
          "text": [
            "['sam']\n"
          ]
        }
      ]
    },
    {
      "cell_type": "code",
      "source": [
        "a = [1,2,3,4]\n",
        "a.reverse()\n",
        "print(a)"
      ],
      "metadata": {
        "colab": {
          "base_uri": "https://localhost:8080/"
        },
        "id": "2k6S-ZpX-rDy",
        "outputId": "8aa1eb83-99c0-4a2f-e38d-857545fc9b84"
      },
      "execution_count": 66,
      "outputs": [
        {
          "output_type": "stream",
          "name": "stdout",
          "text": [
            "[4, 3, 2, 1]\n"
          ]
        }
      ]
    },
    {
      "cell_type": "code",
      "source": [
        "# How can we create a user defined List ?\n",
        "a = []\n",
        "size = int(input(\"Enter size:\"))\n",
        "for i in range(size):\n",
        "  val = int(input(\"Enter item:\"))\n",
        "  a.append(val)\n",
        "print(a)\n",
        "sum = 0\n",
        "for i in range(len(a)):\n",
        "  sum = sum+ a[i]\n",
        "print(sum)"
      ],
      "metadata": {
        "colab": {
          "base_uri": "https://localhost:8080/"
        },
        "id": "7YuweyFd-u1S",
        "outputId": "855c31bd-42b3-47f0-ab6d-bdb14b8f87b6"
      },
      "execution_count": 69,
      "outputs": [
        {
          "output_type": "stream",
          "name": "stdout",
          "text": [
            "Enter size:4\n",
            "Enter item:1\n",
            "Enter item:2\n",
            "Enter item:3\n",
            "Enter item:4\n",
            "[1, 2, 3, 4]\n",
            "10\n"
          ]
        }
      ]
    },
    {
      "cell_type": "code",
      "source": [
        "a = [1,2,3,4]\n",
        "# step-1 (sum = 0 a[0] = 1)\n",
        "# sum = 0 + 1 = 1\n",
        "\n",
        "# step-2 (sum = 1 , a[1] = 2)\n",
        "# sum = 1 + 2 = 3\n",
        "\n",
        "# step-3 (sum = 3 , a[2] = 3)\n",
        "# sum = 3 + 3 = 6\n",
        "\n",
        "# stwp-4 (sum = 6 , a[3] = 4)\n",
        "# sum = 6 + 4 = 10\n",
        "# Final Output = 10\n"
      ],
      "metadata": {
        "id": "P8xGPAge_QOa"
      },
      "execution_count": 70,
      "outputs": []
    },
    {
      "cell_type": "code",
      "source": [
        "# Tuple in Python\n",
        "# Identification = ()\n",
        "# Immutable data type ===> we cannot change or update any values at a run time .\n",
        "# Indexing start from 0 and length start from 1 ."
      ],
      "metadata": {
        "id": "yqgsiCGMBTEp"
      },
      "execution_count": 71,
      "outputs": []
    },
    {
      "cell_type": "code",
      "source": [
        "a = ('sam' , 56 , 'Raj' , 89.23)\n",
        "type(a)"
      ],
      "metadata": {
        "colab": {
          "base_uri": "https://localhost:8080/"
        },
        "id": "qbsgPFaNBsA6",
        "outputId": "e7ea1a08-2d8d-421b-ada5-4b18691ec551"
      },
      "execution_count": 72,
      "outputs": [
        {
          "output_type": "execute_result",
          "data": {
            "text/plain": [
              "tuple"
            ]
          },
          "metadata": {},
          "execution_count": 72
        }
      ]
    },
    {
      "cell_type": "code",
      "source": [
        "# a[1] = 700"
      ],
      "metadata": {
        "id": "TOlqmz8WBv9r"
      },
      "execution_count": 75,
      "outputs": []
    },
    {
      "cell_type": "code",
      "source": [
        "# type-casting ===> changing one data type to another data type ."
      ],
      "metadata": {
        "id": "BRsAWf4NBypl"
      },
      "execution_count": 76,
      "outputs": []
    },
    {
      "cell_type": "code",
      "source": [
        "b = list(a)\n",
        "b"
      ],
      "metadata": {
        "colab": {
          "base_uri": "https://localhost:8080/"
        },
        "id": "JcmqDaiVCMKo",
        "outputId": "82fe41d0-4207-4793-fc4d-4495650de768"
      },
      "execution_count": 77,
      "outputs": [
        {
          "output_type": "execute_result",
          "data": {
            "text/plain": [
              "['sam', 56, 'Raj', 89.23]"
            ]
          },
          "metadata": {},
          "execution_count": 77
        }
      ]
    },
    {
      "cell_type": "code",
      "source": [
        "b[1] = 700\n",
        "b"
      ],
      "metadata": {
        "colab": {
          "base_uri": "https://localhost:8080/"
        },
        "id": "15LNqd-ZCNib",
        "outputId": "874f46dd-89ef-439d-a322-7aebd4f7e956"
      },
      "execution_count": 78,
      "outputs": [
        {
          "output_type": "execute_result",
          "data": {
            "text/plain": [
              "['sam', 700, 'Raj', 89.23]"
            ]
          },
          "metadata": {},
          "execution_count": 78
        }
      ]
    },
    {
      "cell_type": "code",
      "source": [
        "c = tuple(b)\n",
        "c"
      ],
      "metadata": {
        "colab": {
          "base_uri": "https://localhost:8080/"
        },
        "id": "ntjqvLhdCQna",
        "outputId": "3c488aa0-2179-4c2b-e811-d0ceaf56b26e"
      },
      "execution_count": 79,
      "outputs": [
        {
          "output_type": "execute_result",
          "data": {
            "text/plain": [
              "('sam', 700, 'Raj', 89.23)"
            ]
          },
          "metadata": {},
          "execution_count": 79
        }
      ]
    },
    {
      "cell_type": "code",
      "source": [
        "a = (1,2,3)\n",
        "# a[1]=55\n",
        "print(a)\n",
        "b = list(a)\n",
        "b[1] = 55\n",
        "print(b)\n",
        "c = tuple(b)\n",
        "print(c)\n"
      ],
      "metadata": {
        "colab": {
          "base_uri": "https://localhost:8080/"
        },
        "id": "3HpCh4KDCS1Z",
        "outputId": "3d5e3b19-1be2-4f5c-80cd-30506579fc1c"
      },
      "execution_count": 84,
      "outputs": [
        {
          "output_type": "stream",
          "name": "stdout",
          "text": [
            "(1, 2, 3)\n",
            "[1, 55, 3]\n",
            "(1, 55, 3)\n"
          ]
        }
      ]
    },
    {
      "cell_type": "code",
      "source": [
        "# loop in tuple\n",
        "a = (1,23,4,5,6)\n",
        "for i in range(len(a)) :\n",
        "  print(a[i])"
      ],
      "metadata": {
        "colab": {
          "base_uri": "https://localhost:8080/"
        },
        "id": "KUhuTfTOCo-B",
        "outputId": "2c8166c0-6aa5-45e4-c004-acca5f7689ad"
      },
      "execution_count": 87,
      "outputs": [
        {
          "output_type": "stream",
          "name": "stdout",
          "text": [
            "1\n",
            "23\n",
            "4\n",
            "5\n",
            "6\n"
          ]
        }
      ]
    },
    {
      "cell_type": "code",
      "source": [
        "# Dictionary in Python\n",
        "# (1). Identification = {key:value , key:value.......}\n",
        "# (2). Elements are separated from comma .\n",
        "# (3). Mutable data type"
      ],
      "metadata": {
        "id": "-HhtkhkcDBFp"
      },
      "execution_count": 88,
      "outputs": []
    },
    {
      "cell_type": "code",
      "source": [
        "a = {'brand':'Kia' , 'Model':'Celtos' , 'year':2023}\n",
        "type(a)"
      ],
      "metadata": {
        "colab": {
          "base_uri": "https://localhost:8080/"
        },
        "id": "WhXHISBgDiQ_",
        "outputId": "857133fe-4d62-4e2d-ce0d-48a001f9dde7"
      },
      "execution_count": 89,
      "outputs": [
        {
          "output_type": "execute_result",
          "data": {
            "text/plain": [
              "dict"
            ]
          },
          "metadata": {},
          "execution_count": 89
        }
      ]
    },
    {
      "cell_type": "code",
      "source": [
        "len(a)"
      ],
      "metadata": {
        "colab": {
          "base_uri": "https://localhost:8080/"
        },
        "id": "9WWlkiWMDofx",
        "outputId": "d6d6aad0-5dce-42e9-9d73-c447857c7a78"
      },
      "execution_count": 90,
      "outputs": [
        {
          "output_type": "execute_result",
          "data": {
            "text/plain": [
              "3"
            ]
          },
          "metadata": {},
          "execution_count": 90
        }
      ]
    },
    {
      "cell_type": "code",
      "source": [
        "a['year'] = 2024  ### update in dictionary\n",
        "print(a)"
      ],
      "metadata": {
        "colab": {
          "base_uri": "https://localhost:8080/"
        },
        "id": "mFcBqnpQD6ox",
        "outputId": "5567224e-401a-42b9-9096-5454175cb6a1"
      },
      "execution_count": 92,
      "outputs": [
        {
          "output_type": "stream",
          "name": "stdout",
          "text": [
            "{'brand': 'Kia', 'Model': 'Celtos', 'year': 2024}\n"
          ]
        }
      ]
    },
    {
      "cell_type": "code",
      "source": [
        "a['color'] = 'black'\n",
        "print(a)"
      ],
      "metadata": {
        "colab": {
          "base_uri": "https://localhost:8080/"
        },
        "id": "1xlwSWHaD_0g",
        "outputId": "9600db19-5c70-48ef-cc2e-bbbdb3be559c"
      },
      "execution_count": 93,
      "outputs": [
        {
          "output_type": "stream",
          "name": "stdout",
          "text": [
            "{'brand': 'Kia', 'Model': 'Celtos', 'year': 2024, 'color': 'black'}\n"
          ]
        }
      ]
    },
    {
      "cell_type": "code",
      "source": [
        "# Loop in Dictionary\n",
        "for i in a.keys():   ### Extract all the keys\n",
        "  print(i)"
      ],
      "metadata": {
        "colab": {
          "base_uri": "https://localhost:8080/"
        },
        "id": "6JWXLvYqEOXt",
        "outputId": "94dc0297-1a92-4ffe-cc8a-81e687e0912a"
      },
      "execution_count": 94,
      "outputs": [
        {
          "output_type": "stream",
          "name": "stdout",
          "text": [
            "brand\n",
            "Model\n",
            "year\n",
            "color\n"
          ]
        }
      ]
    },
    {
      "cell_type": "code",
      "source": [
        "for i in a.values():   ## Extract all the values\n",
        "  print(i)"
      ],
      "metadata": {
        "colab": {
          "base_uri": "https://localhost:8080/"
        },
        "id": "IBokha-UEfa5",
        "outputId": "4b7bcf6a-069d-4664-a0eb-18d5a70835a3"
      },
      "execution_count": 95,
      "outputs": [
        {
          "output_type": "stream",
          "name": "stdout",
          "text": [
            "Kia\n",
            "Celtos\n",
            "2024\n",
            "black\n"
          ]
        }
      ]
    },
    {
      "cell_type": "code",
      "source": [
        "for x,y in a.items():  ## Extract all the keys and values\n",
        "  print(x,y)"
      ],
      "metadata": {
        "colab": {
          "base_uri": "https://localhost:8080/"
        },
        "id": "V3fF6OlSEmGx",
        "outputId": "baef58dc-22e6-4f43-fda8-8c890c278c34"
      },
      "execution_count": 96,
      "outputs": [
        {
          "output_type": "stream",
          "name": "stdout",
          "text": [
            "brand Kia\n",
            "Model Celtos\n",
            "year 2024\n",
            "color black\n"
          ]
        }
      ]
    },
    {
      "cell_type": "code",
      "source": [
        "a"
      ],
      "metadata": {
        "colab": {
          "base_uri": "https://localhost:8080/"
        },
        "id": "nko1gCIoE-o7",
        "outputId": "293cccbe-1bc7-4e0f-b84c-081cf7eb3eac"
      },
      "execution_count": 97,
      "outputs": [
        {
          "output_type": "execute_result",
          "data": {
            "text/plain": [
              "{'brand': 'Kia', 'Model': 'Celtos', 'year': 2024, 'color': 'black'}"
            ]
          },
          "metadata": {},
          "execution_count": 97
        }
      ]
    },
    {
      "cell_type": "code",
      "source": [
        "a.pop('color')\n",
        "a"
      ],
      "metadata": {
        "colab": {
          "base_uri": "https://localhost:8080/"
        },
        "id": "n3Xg2U73FNt5",
        "outputId": "6f023926-00a0-4b60-e667-46e3142d7d35"
      },
      "execution_count": 99,
      "outputs": [
        {
          "output_type": "execute_result",
          "data": {
            "text/plain": [
              "{'brand': 'Kia', 'Model': 'Celtos', 'year': 2024}"
            ]
          },
          "metadata": {},
          "execution_count": 99
        }
      ]
    },
    {
      "cell_type": "code",
      "source": [
        "a.popitem()\n",
        "a"
      ],
      "metadata": {
        "colab": {
          "base_uri": "https://localhost:8080/"
        },
        "id": "C6aV97kQFPWU",
        "outputId": "4236cd47-48ae-4149-9c92-10547f48c9d2"
      },
      "execution_count": 100,
      "outputs": [
        {
          "output_type": "execute_result",
          "data": {
            "text/plain": [
              "{'brand': 'Kia', 'Model': 'Celtos'}"
            ]
          },
          "metadata": {},
          "execution_count": 100
        }
      ]
    },
    {
      "cell_type": "code",
      "source": [
        "a.popitem()\n",
        "a"
      ],
      "metadata": {
        "colab": {
          "base_uri": "https://localhost:8080/"
        },
        "id": "7y_Oie9oFWLl",
        "outputId": "2db869e2-a2a3-40da-8d55-d0f2541433b9"
      },
      "execution_count": 101,
      "outputs": [
        {
          "output_type": "execute_result",
          "data": {
            "text/plain": [
              "{'brand': 'Kia'}"
            ]
          },
          "metadata": {},
          "execution_count": 101
        }
      ]
    },
    {
      "cell_type": "code",
      "source": [
        "# Sets in Python\n",
        "# Identification = {}\n",
        "# Mutable data type\n",
        "# Unordered , unindexed\n",
        "# has only unqiue values"
      ],
      "metadata": {
        "id": "MwxXYpnAFZ7y"
      },
      "execution_count": 102,
      "outputs": []
    },
    {
      "cell_type": "code",
      "source": [
        "a = {'raj' , 45 , 'raj'}\n",
        "print(a)"
      ],
      "metadata": {
        "colab": {
          "base_uri": "https://localhost:8080/"
        },
        "id": "aUxT-W3xGXit",
        "outputId": "70daa363-2035-4d00-ff0c-8205fe0bc180"
      },
      "execution_count": 103,
      "outputs": [
        {
          "output_type": "stream",
          "name": "stdout",
          "text": [
            "{45, 'raj'}\n"
          ]
        }
      ]
    },
    {
      "cell_type": "code",
      "source": [
        "a.add('Rahul')\n",
        "print(a)"
      ],
      "metadata": {
        "colab": {
          "base_uri": "https://localhost:8080/"
        },
        "id": "MKYkRS4WGdCL",
        "outputId": "3ee0d0db-2ab2-4311-e03a-e7fd35156149"
      },
      "execution_count": 104,
      "outputs": [
        {
          "output_type": "stream",
          "name": "stdout",
          "text": [
            "{'Rahul', 45, 'raj'}\n"
          ]
        }
      ]
    },
    {
      "cell_type": "code",
      "source": [
        "a = {1,2,3,4}\n",
        "b = {3,4,5,6}\n",
        "a.intersection(a,b)"
      ],
      "metadata": {
        "colab": {
          "base_uri": "https://localhost:8080/"
        },
        "id": "-wSoX6HGGiW1",
        "outputId": "50371348-425a-4e47-d229-7d3bba1930ea"
      },
      "execution_count": 105,
      "outputs": [
        {
          "output_type": "execute_result",
          "data": {
            "text/plain": [
              "{3, 4}"
            ]
          },
          "metadata": {},
          "execution_count": 105
        }
      ]
    },
    {
      "cell_type": "code",
      "source": [
        "a.union(a,b)"
      ],
      "metadata": {
        "colab": {
          "base_uri": "https://localhost:8080/"
        },
        "id": "ik1TcI0oG0m2",
        "outputId": "c7460f68-b459-498a-9ef6-e6d53e0eb03a"
      },
      "execution_count": 106,
      "outputs": [
        {
          "output_type": "execute_result",
          "data": {
            "text/plain": [
              "{1, 2, 3, 4, 5, 6}"
            ]
          },
          "metadata": {},
          "execution_count": 106
        }
      ]
    },
    {
      "cell_type": "code",
      "source": [
        "a-b ## elements that are present in a not in b ."
      ],
      "metadata": {
        "colab": {
          "base_uri": "https://localhost:8080/"
        },
        "id": "J6BN9F6zG3nG",
        "outputId": "99f38606-2efd-4bca-e329-fc4392ed77af"
      },
      "execution_count": 107,
      "outputs": [
        {
          "output_type": "execute_result",
          "data": {
            "text/plain": [
              "{1, 2}"
            ]
          },
          "metadata": {},
          "execution_count": 107
        }
      ]
    },
    {
      "cell_type": "code",
      "source": [
        "b-a  ## elements that are present in b not in a ."
      ],
      "metadata": {
        "colab": {
          "base_uri": "https://localhost:8080/"
        },
        "id": "re5BLv8iG5Cg",
        "outputId": "1c126ca9-457f-44ea-d4d5-a724c6d403d8"
      },
      "execution_count": 108,
      "outputs": [
        {
          "output_type": "execute_result",
          "data": {
            "text/plain": [
              "{5, 6}"
            ]
          },
          "metadata": {},
          "execution_count": 108
        }
      ]
    },
    {
      "cell_type": "code",
      "source": [
        "a = {'brand':'kia'}\n",
        "type(a)"
      ],
      "metadata": {
        "colab": {
          "base_uri": "https://localhost:8080/"
        },
        "id": "M-uNCU3nG-7r",
        "outputId": "2543210c-0712-4e86-c02b-79b35055e6a8"
      },
      "execution_count": 109,
      "outputs": [
        {
          "output_type": "execute_result",
          "data": {
            "text/plain": [
              "dict"
            ]
          },
          "metadata": {},
          "execution_count": 109
        }
      ]
    },
    {
      "cell_type": "code",
      "source": [
        "a = {4,1,4,55,6}\n",
        "type(a)"
      ],
      "metadata": {
        "colab": {
          "base_uri": "https://localhost:8080/"
        },
        "id": "tkMWGgNWHlfS",
        "outputId": "b8e490ea-902f-4519-93dd-de901c43089f"
      },
      "execution_count": 110,
      "outputs": [
        {
          "output_type": "execute_result",
          "data": {
            "text/plain": [
              "set"
            ]
          },
          "metadata": {},
          "execution_count": 110
        }
      ]
    },
    {
      "cell_type": "code",
      "source": [
        "# Google ===> Instant Data Scraper Extension ==> Add to Crome\n",
        "# FlipKart ==> Mobile 5g search ===> Instant data scraper extension click ==>\n",
        "# output data save into csv format"
      ],
      "metadata": {
        "id": "6TjU1jlsHn8h"
      },
      "execution_count": 111,
      "outputs": []
    },
    {
      "cell_type": "code",
      "source": [
        "# Project - Chatbot\n",
        "# Anaconda Install ===>\n",
        "# C:\\Users\\saurabh\\anaconda3\\Scripts\n",
        "# C:\\Users\\saurabh\\anaconda3\\Library\\bin\n",
        "\n",
        "# Go to Edit Environment variable ===> Environment variable click ===>\n",
        "# Path click edit option click ===> paste the scripts folder and bin folder directories\n",
        "\n",
        "# For create virtual environment and if you want to install any package from terminal then\n",
        "# you can use conda if you paste scripts and bin directoreis in environment variables.\n",
        "\n",
        "# Go to Browser  ===> Install Python ==> bin, scripts folder ===> environment variable\n",
        "# ---------------------------------------------------------\n",
        "\n",
        "# VS Code in your system\n",
        "\n",
        "# Project Structure\n",
        "# Venv\n",
        "# requirements.txt file ===> Put all the packages here that are needed in our app\n",
        "# .env  ===> we will put our all secrets here\n",
        "# app.py ===> we will put our all logics here for create the application ."
      ],
      "metadata": {
        "id": "h2iWPPwVP1O0"
      },
      "execution_count": 113,
      "outputs": []
    },
    {
      "cell_type": "code",
      "source": [
        "# If you want to work on local system without creating virtual environment\n",
        "\n",
        "# requirements.txt file ===> Put all the packages here that are needed in our app\n",
        "# .env  ===> we will put our all secrets here\n",
        "# app.py ===> we will put our all logics here for create the application .\n",
        "\n",
        "# API  ===> Application Programming Interface ===> mediator ===> client to service\n",
        "# How can we create our google api key ?\n",
        "\n",
        "# Go to google ===> search makersuite api key ===> click this ===>\n",
        "# login on google  ===> click on create api key ===> it will generate api key and\n",
        "# then you have to copy it and paste it into .env file"
      ],
      "metadata": {
        "id": "OYhBA1rTRupV"
      },
      "execution_count": 114,
      "outputs": []
    },
    {
      "cell_type": "code",
      "source": [
        "# step-1\n",
        "# Create a folder and open vs code in it .\n",
        "\n",
        "# step-2\n",
        "# open terminal and write\n",
        "# conda create -p venv python==3.10 -y\n",
        "# conda activate venv/\n",
        "\n",
        "# step-3\n",
        "# create a 'requirements.txt' file in which we have to put our packages\n",
        "# streamlit   ====> for ui\n",
        "# python-dotenv ===>connect your secrets to your app.py\n",
        "# google-generativeai ==> genai library\n",
        "\n",
        "# step-4\n",
        "# open the terminal and write\n",
        "# pip install -r requirements.txt\n",
        "\n",
        "# it will install all the packages that we have to needed in our application\n",
        "# pip stands for python Installer Packages\n"
      ],
      "metadata": {
        "id": "3TAy2YDbTc0p"
      },
      "execution_count": 115,
      "outputs": []
    },
    {
      "cell_type": "code",
      "source": [
        "# upser ===> input ==> api key ===> google-generative model ==> return response"
      ],
      "metadata": {
        "id": "hHaCWeK3WHWC"
      },
      "execution_count": null,
      "outputs": []
    },
    {
      "cell_type": "code",
      "source": [
        "### Who are working without virtual enviornment\n",
        "\n",
        "# create a 'requirements.txt' file in which we have to put our packages\n",
        "# streamlit   ====> for ui\n",
        "# python-dotenv ===>connect your secrets to your app.py\n",
        "# google-generativeai ==> genai library\n",
        "\n",
        "# step-4\n",
        "# open the terminal and write\n",
        "# pip install -r requirements.txt\n",
        "\n",
        "\n",
        "# In app.py\n",
        "# function ==> as argument his/her query ===> google model hit ===> response return\n",
        "\n",
        "# step-4\n",
        "# from dotenv import load_dotenv\n",
        "# load_dotenv()\n",
        "\n",
        "# import streamlit as st\n",
        "# import os\n",
        "# import google.generativeai as genai\n",
        "\n",
        "# genai.configure(api_key=os.getenv(\"GOOGLE_API_KEY\"))\n",
        "\n",
        "# model = genai.GenerativeModel(\"gemini-pro\")\n",
        "\n",
        "# def my_output(query):\n",
        "#     response = model.generate_content(query)\n",
        "#     return response.text\n",
        "\n",
        "# #### UI Development using streamlit\n",
        "\n",
        "# st.set_page_config(page_title=\"SMART_BOT\")\n",
        "# st.header(\"SMART_BOT\")\n",
        "# input = st.text_input(\"Input \" , key = \"input\")\n",
        "# submit = st.button(\"Ask your query\")\n",
        "\n",
        "# if submit :\n",
        "#     response = my_output(input)\n",
        "#     st.subheader(\"The Response is=\")\n",
        "#     st.write(response)\n",
        "\n",
        "\n",
        "\n",
        "\n",
        "# Now open the terminal and write\n",
        "# streamlit run app.py\n",
        "\n",
        "\n",
        "# ---------------------------------------------------------------------\n",
        "\n",
        "# Our application will run on local system\n",
        "\n",
        "\n",
        "# -------------------------------------------------------------------\n",
        "\n",
        "# How can we deploy our application ???\n",
        "\n",
        "# go to github ==> create your accout\n",
        "# Install git bash\n",
        "# Project ===> open git bash\n",
        "\n",
        "# git init\n",
        "# git add app.py\n",
        "# git add requirements.txt\n",
        "# git commit -m \"added\"\n",
        "\n",
        "# open github ===> create a new repo ===>\n",
        "# git remote add origin https://github.com/username/project.git\n",
        "# git push -u origin master\n",
        "\n",
        "# using these commands you can deploy your application on github\n",
        "\n",
        "\n",
        "# Go to browser ===> Streamlit Cloud ==> Register with github ===>\n",
        "# create app ===> 2 options (a) you have already app (b) you want to create app\n",
        "# click already have app ==>\n",
        "# paste the github name of repo\n",
        "# branch name\n",
        "# app.py\n",
        "# advance settings ===> paste your google api key here\n",
        "# Click on deploy\n",
        "\n",
        "# --------------------------------------------------------------------------------------------------------\n",
        "\n",
        "\n"
      ],
      "metadata": {
        "id": "WWTEpTktXJJn"
      },
      "execution_count": null,
      "outputs": []
    },
    {
      "cell_type": "code",
      "source": [
        "# Project -2 (How can we generate Text to Image)???"
      ],
      "metadata": {
        "id": "FnXJTc8PhW5R"
      },
      "execution_count": null,
      "outputs": []
    }
  ]
}